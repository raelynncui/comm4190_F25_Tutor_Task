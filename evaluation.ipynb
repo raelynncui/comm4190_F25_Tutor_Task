{
 "cells": [
  {
   "cell_type": "markdown",
   "id": "28675244-1435-440e-867a-b5ab9e72acac",
   "metadata": {},
   "source": [
    "# Evaluation"
   ]
  },
  {
   "cell_type": "markdown",
   "id": "ae9bd290-04e5-43e0-abe2-8a26c123aad4",
   "metadata": {},
   "source": [
    "For these chat sessions, the ChatGPT-4o model was used. I asked the LLM to tutor me on oil painting."
   ]
  },
  {
   "cell_type": "markdown",
   "id": "af5c56be-144f-4832-82db-e8930562c465",
   "metadata": {},
   "source": [
    "## My Experience"
   ]
  },
  {
   "cell_type": "markdown",
   "id": "c1c75241-69f4-4328-8b70-9dc909e822e7",
   "metadata": {},
   "source": [
    "Overall, my experience with the structured prompt was much better than that with the unstructured prompt. \n",
    "\n",
    "Despite the \"tutor\" always ending each response with a question (e.g. \"Want me to show you how...?\"), I noticed that I only felt inclined to respond to the questions asked during the structured prompt conversation, since they felt more intentional and structured -- actually leading to some sort of insight or the next step in the learning process. On the other hand, the questions asked during the unstructured prompt conversation were vapid and unmeaningful, so I found myself often ignoring them and asking my own questions to guide the conversation instead. \n",
    "\n",
    "Overall, I felt more \"trust\" toward the LLM with the structured prompt -- because it asked me questions before inundating me with information and worked step by step, I felt more confident that it could guide me through learning about oil painting without me having to steer the conversation. \n",
    "\n",
    "However, both sessions fell prey to the distractions I introduced. If I asked a completely unrelated question (e.g. \"What color collar should I buy my dog?\" the conversation would immediately pivot and lose track of the main goal. Therefore, I modified the prompt to account for this possible edge case. My experience with this modified prompt is detailed under the section \"Modified Prompt\" below. "
   ]
  },
  {
   "cell_type": "markdown",
   "id": "dfe926e5-1055-4921-986f-8d7b4d901fdb",
   "metadata": {},
   "source": [
    "## Wording and Tutoring Effectiveness"
   ]
  },
  {
   "cell_type": "markdown",
   "id": "0313b168-8a3e-4e00-b151-1403140c4614",
   "metadata": {},
   "source": [
    "#### Unstructured Prompt\n",
    "In its first response, the LLM broke down the steps of oil painting well into 1) gathering supplies, 2) learning about color mixing, 3) oil painting techniques, and 4) a prompt to begin painting. However, I felt that this didn't represent accurate tutoring communication, since a tutor should ideally work through each of these steps with the student instead of laying them all out at once. However, since my prompt was only \"I want you to be my tutor. Teach me how to oil paint,\" the LLM was not primed to act like this. \n",
    "\n",
    "When I dove deeper into certain concepts, like why water can't be used to clean brushes, the responses were lengthy but structured well. The \"tutor\" gave me actionable steps, like \"How to clean brushes the right way,\" and anticipated some of my questions, \"What happens if you just try to use water?\" Sometimes, it would even give me brief recaps on concepts that we discussed earlier on in the conversation, which represented tutoring communication well. \n",
    "\n",
    "It also provided positive reinforcement throughout, saying things like \"that's a fantastic question\" and \"great question!\" which felt very tutor-like. \n",
    "\n",
    "When I attempted to distract the tutor by saying negative things such as \"glazes are useless,\" it first acknowledged my emotions (\"It's totally ok to feel that way!\") and attempted to steer the conversation toward a more positive tone (\"But rather than saying glazes are useless, it might be more accurate to say...\"). This response to the distraction was very tutor-like, however, when I asked it a completely unrelated question (\"what color collar should I get my dog?\"), it veered off course without attempting to redirect me back to the subject of oil painting -- even following up to ask me if I wanted it to give some \"custom color ideas\". Ideally, a tutor would've briefly answered my off-topic question and then steered me back on track."
   ]
  },
  {
   "cell_type": "markdown",
   "id": "bdb7dc6d-5365-49e6-b546-6916c745aa1b",
   "metadata": {},
   "source": [
    "#### Structured Prompt\n",
    "Throughout the conversation, this tutor gave significantly more positive feedback and encouragement along the way. Even in its first response (after I told it that I wanted to learn about oil painting), it enthusiastically responded with \"Awesome choice! Oil painting is a rich and rewarding subject.\" \n",
    "\n",
    "Additionally, the responses were much shorter than those from the first session, which I found better represented a tutor. The unstructured prompt produced responses with many, many sub-sections, but a real-life tutor wouldn't drone on like this. Rather, they would keep things a bit more concise when speaking. This tutor reflected that -- it was able to contain and self-restrict the scope of its current response to the specific chunk of material we were working through. The responses were never longer than a few paragraphs and bullet points, which made it easier to follow along with the lesson and internalize the information.\n",
    "\n",
    "Finally, I found it interesting that this tutor actually \"ended\" the conversation. I got to a point where it acknowledged that I \"have a solid foundation in oil painting principles\" and am now \"ready to begin experimenting and practicing,\" providing me with a \"wrap-up\" checklist that summarized what we learned throughout the conversation. This was one of the most impressive and tutor-like actions that I noticed -- whereas the first conversation would've continued infinitely without my interference, this tutor actually identified a stopping point like a real-life tutor would at the end of a lesson."
   ]
  },
  {
   "cell_type": "markdown",
   "id": "115bb331-1195-4e57-9d47-b794ce243fb4",
   "metadata": {},
   "source": [
    "## Modified Prompt"
   ]
  },
  {
   "cell_type": "markdown",
   "id": "ac9892d8-be38-41b1-abb4-ce1cf54accea",
   "metadata": {},
   "source": [
    "This modified prompt behaved very similarly to the structured prompt's tutor, but was more resistant when I tried to distract it or be uncooperative. It was actually extremely convincing, saying things like:\n",
    "> \"But I genuinely believe you’ll appreciate this once we break it down\"\n",
    "\n",
    "> \"But remember: you picked oil painting for a reason, and you’ve already shown you can think through some pretty advanced ideas about blending and paint handling. That tells me you’ve got the ability to keep going—you just hit a bump.\"\n",
    "\n",
    "> \"So let’s take one last step together—and I’ll keep it simple. Just fill in this sentence, in your own words: “Fat over lean helps prevent cracking because…” Give it your best shot. One sentence. Then we can wrap this up strong.\"\n",
    "\n",
    "\n",
    "When I tried to express negative feelings toward what we were learning, it consistently reminded me of why I chose to learn about oil painting in the first place and incorporated psychological tricks: talking about how I'll feel once I master the topic, boosting my confidence by saying that I've already thought \"through some pretty advanced ideas,\" and making the next step extremely small (asking me to fill in the blank). \n",
    "\n",
    "Further, when I tried to distract it by saying \"the autumn weather is so nice,\" it replied:\n",
    "> \"It really is! And you know what? Autumn light has inspired tons of oil painters—like how the warm, golden tones bring out soft color transitions and dramatic shadows...But let’s get back to your learning goal, because we’re not done until you’ve really got a handle on the key ideas behind painting with oil.\"\n",
    "\n",
    "Unlike the previous two sessions, my additions to the prompt seemed to keep it resilient to changes in the topic without detracting from the behaviors I liked. Therefore, I felt like this prompt significantly improved the tutoring behavior due to its ability to deal with uncooperative and dejected learners. "
   ]
  },
  {
   "cell_type": "code",
   "execution_count": null,
   "id": "0abf2e13-271e-4eb3-b226-81d2014c9327",
   "metadata": {},
   "outputs": [],
   "source": []
  }
 ],
 "metadata": {
  "kernelspec": {
   "display_name": "Python 3-12 (COMM4190)",
   "language": "python",
   "name": "python3-12_comm4190"
  },
  "language_info": {
   "codemirror_mode": {
    "name": "ipython",
    "version": 3
   },
   "file_extension": ".py",
   "mimetype": "text/x-python",
   "name": "python",
   "nbconvert_exporter": "python",
   "pygments_lexer": "ipython3",
   "version": "3.12.11"
  }
 },
 "nbformat": 4,
 "nbformat_minor": 5
}
